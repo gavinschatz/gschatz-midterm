{
  "cells": [
    {
      "cell_type": "markdown",
      "metadata": {
        "id": "mJOSuBPK8DHn"
      },
      "source": [
        "# Libraries"
      ]
    },
    {
      "cell_type": "code",
      "execution_count": null,
      "metadata": {
        "id": "2Z_jmyH98DHp"
      },
      "outputs": [],
      "source": [
        "import pickle\n",
        "import pandas as pd\n",
        "import seaborn as sns\n",
        "from os.path import exists\n",
        "import matplotlib.pyplot as plt\n",
        "from sklearn.neighbors import KNeighborsClassifier\n",
        "from sklearn.model_selection import train_test_split\n",
        "from sklearn.metrics import accuracy_score, confusion_matrix"
      ]
    },
    {
      "cell_type": "markdown",
      "metadata": {
        "id": "WEeyWfpd8DHq"
      },
      "source": [
        "# Loading the Files\n",
        "\n",
        "Download the csv files into the `data/` directory."
      ]
    },
    {
      "cell_type": "code",
      "execution_count": null,
      "metadata": {
        "colab": {
          "base_uri": "https://localhost:8080/"
        },
        "id": "KgKrVv5oOv7P",
        "outputId": "6c605de8-6760-4e8e-df62-7c0e8c95c3e6"
      },
      "outputs": [
        {
          "output_type": "stream",
          "name": "stdout",
          "text": [
            "Mounted at /content/drive\n"
          ]
        }
      ],
      "source": [
        "from google.colab import drive\n",
        "drive.mount('/content/drive')\n",
        "\n",
        "train_path = '/content/drive/MyDrive/cs506_Midterm/Data/train.csv'\n",
        "test_path = '/content/drive/MyDrive/cs506_Midterm/Data/test.csv'"
      ]
    },
    {
      "cell_type": "code",
      "execution_count": null,
      "metadata": {
        "colab": {
          "base_uri": "https://localhost:8080/",
          "height": 654
        },
        "id": "patzhJg5VUkn",
        "outputId": "0f9432a9-d0de-485d-d93f-22dc056234fe"
      },
      "outputs": [
        {
          "output_type": "stream",
          "name": "stdout",
          "text": [
            "train.csv shape is  (1697533, 9)\n",
            "test.csv shape is  (212192, 2)\n",
            "Score distribution after downsampling:\n",
            "Score\n",
            "5.0    396581\n",
            "4.0    335228\n",
            "3.0    176082\n",
            "1.0     91190\n",
            "2.0     89678\n",
            "Name: count, dtype: int64\n"
          ]
        },
        {
          "output_type": "display_data",
          "data": {
            "text/plain": [
              "<Figure size 640x480 with 1 Axes>"
            ],
            "image/png": "[encoded data removed]"
          },
          "metadata": {}
        }
      ],
      "source": [
        "trainingSet = pd.read_csv(train_path)\n",
        "testingSet = pd.read_csv(test_path)\n",
        "\n",
        "print(\"train.csv shape is \", trainingSet.shape)\n",
        "print(\"test.csv shape is \", testingSet.shape)\n",
        "\n",
        "majority_class = trainingSet[trainingSet['Score'] == 5]\n",
        "minority_class = trainingSet[trainingSet['Score'] != 5]\n",
        "\n",
        "majority_downsampled, _ = train_test_split(\n",
        "    majority_class,\n",
        "    test_size=0.5,\n",
        "    random_state=42\n",
        ")\n",
        "\n",
        "trainingSet = pd.concat([majority_downsampled, minority_class])\n",
        "\n",
        "print(\"Score distribution after downsampling:\")\n",
        "print(trainingSet['Score'].value_counts())\n",
        "\n",
        "trainingSet['Score'].value_counts().plot(kind='bar', legend=True, alpha=.7)\n",
        "plt.title('Score Distribution After Downsampling')\n",
        "plt.xlabel('Score')\n",
        "plt.ylabel('Frequency')\n",
        "plt.show()\n"
      ]
    },
    {
      "cell_type": "code",
      "execution_count": null,
      "metadata": {
        "colab": {
          "base_uri": "https://localhost:8080/",
          "height": 1000
        },
        "id": "pzGgxJ7Z8DHq",
        "outputId": "20a14343-459a-4d79-8353-e72f99135869"
      },
      "outputs": [
        {
          "output_type": "stream",
          "name": "stdout",
          "text": [
            "\n",
            "              Id   ProductId          UserId  HelpfulnessNumerator  \\\n",
            "214519    727812  B00007ELG5  A2HY0DS3E1VD1H                     0   \n",
            "234041    681495  B00005T31Q  A2VJ80PM1G00QV                     0   \n",
            "1199652   428080  6304546335  A1PHGQCIANBPLS                     0   \n",
            "199437    994544  B000FS2W26  A1YM54DY06M24M                     6   \n",
            "322849   1011176  B000H7JCHI   AEZJ5Y9VAMCXT                     3   \n",
            "\n",
            "         HelpfulnessDenominator        Time  \\\n",
            "214519                        1  1136073600   \n",
            "234041                        0  1263340800   \n",
            "1199652                       0  1209686400   \n",
            "199437                       10  1157932800   \n",
            "322849                        3  1174867200   \n",
            "\n",
            "                                                   Summary  \\\n",
            "214519                                     diva match only   \n",
            "234041                                    Update from 2010   \n",
            "1199652                                      A great movie   \n",
            "199437   The Big Giant Head!?  The Big Giant Head is HE...   \n",
            "322849           I will rate any gunsmoke release a 5stars   \n",
            "\n",
            "                                                      Text  Score  \n",
            "214519   Torrie Wilson vs Dawn MarieMatch went a little...    5.0  \n",
            "234041   I have nothing to add to the sentiments others...    5.0  \n",
            "1199652  I totally love this money back in the day. It ...    5.0  \n",
            "199437   Another hilarious season put out by your favor...    5.0  \n",
            "322849   One of my favorite shows of all time, I recent...    5.0  \n",
            "\n",
            "        Id  Score\n",
            "0  1323432    NaN\n",
            "1  1137299    NaN\n",
            "2  1459366    NaN\n",
            "3   931601    NaN\n",
            "4  1311995    NaN\n",
            "\n",
            "                 Id  HelpfulnessNumerator  HelpfulnessDenominator  \\\n",
            "count  1.300951e+06          1.300951e+06            1.300951e+06   \n",
            "mean   8.553158e+05          3.567936e+00            5.576810e+00   \n",
            "std    4.879912e+05          1.647673e+01            1.984286e+01   \n",
            "min    0.000000e+00          0.000000e+00            0.000000e+00   \n",
            "25%    4.383035e+05          0.000000e+00            0.000000e+00   \n",
            "50%    8.560160e+05          1.000000e+00            2.000000e+00   \n",
            "75%    1.277090e+06          3.000000e+00            5.000000e+00   \n",
            "max    1.697531e+06          6.084000e+03            6.510000e+03   \n",
            "\n",
            "               Time         Score  \n",
            "count  1.300951e+06  1.088759e+06  \n",
            "mean   1.258981e+09  3.786521e+00  \n",
            "std    1.292784e+08  1.250471e+00  \n",
            "min    8.793792e+08  1.000000e+00  \n",
            "25%    1.158538e+09  3.000000e+00  \n",
            "50%    1.299283e+09  4.000000e+00  \n",
            "75%    1.371859e+09  5.000000e+00  \n",
            "max    1.406074e+09  5.000000e+00  \n"
          ]
        },
        {
          "output_type": "display_data",
          "data": {
            "text/plain": [
              "<Figure size 640x480 with 1 Axes>"
            ],
            "image/png": "[encoded data removed]"
          },
          "metadata": {}
        },
        {
          "output_type": "stream",
          "name": "stdout",
          "text": [
            "\n",
            "EVERYTHING IS PROPERLY SET UP! YOU ARE READY TO START\n"
          ]
        }
      ],
      "source": [
        "print()\n",
        "\n",
        "print(trainingSet.head())\n",
        "print()\n",
        "print(testingSet.head())\n",
        "\n",
        "print()\n",
        "\n",
        "print(trainingSet.describe())\n",
        "\n",
        "trainingSet['Score'].value_counts().plot(kind='bar', legend=True, alpha=.5)\n",
        "plt.show()\n",
        "\n",
        "print()\n",
        "print(\"EVERYTHING IS PROPERLY SET UP! YOU ARE READY TO START\")"
      ]
    },
    {
      "cell_type": "code",
      "execution_count": null,
      "metadata": {
        "id": "LHBappS48j8b"
      },
      "outputs": [],
      "source": [
        "from sklearn.decomposition import TruncatedSVD\n",
        "from sklearn.feature_extraction.text import TfidfVectorizer\n",
        "from sklearn.preprocessing import StandardScaler\n",
        "from nltk.stem.snowball import SnowballStemmer\n",
        "from nltk.tokenize import word_tokenize, sent_tokenize\n",
        "from nltk.corpus import stopwords\n",
        "import numpy as np\n",
        "import nltk"
      ]
    },
    {
      "cell_type": "markdown",
      "metadata": {
        "id": "LcGzau2d8DHr"
      },
      "source": [
        "# Adding Features"
      ]
    },
    {
      "cell_type": "code",
      "execution_count": null,
      "metadata": {
        "colab": {
          "base_uri": "https://localhost:8080/"
        },
        "id": "hMPP6-nI8DHr",
        "outputId": "e454535e-d88f-4ee9-b567-11c455c5149a"
      },
      "outputs": [
        {
          "output_type": "stream",
          "name": "stderr",
          "text": [
            "[nltk_data] Downloading package punkt to /root/nltk_data...\n",
            "[nltk_data]   Unzipping tokenizers/punkt.zip.\n",
            "[nltk_data] Downloading package stopwords to /root/nltk_data...\n",
            "[nltk_data]   Unzipping corpora/stopwords.zip.\n"
          ]
        },
        {
          "output_type": "stream",
          "name": "stdout",
          "text": [
            "  (0, 941)\t0.4979677836889688\n",
            "  (0, 960)\t0.5906084288874108\n",
            "  (0, 513)\t0.13453201915588384\n",
            "  (0, 793)\t0.20723675048096468\n",
            "  (0, 265)\t0.4702344118966085\n",
            "  (0, 547)\t0.2446974945713324\n",
            "  (0, 699)\t0.11428791526015923\n",
            "  (0, 522)\t0.21932815973153535\n",
            "  (1, 513)\t0.1527469882099572\n",
            "  (1, 23)\t0.23545691864184753\n",
            "  (1, 221)\t0.151900723160275\n",
            "  (1, 84)\t0.14571370252089996\n",
            "  (1, 777)\t0.21208210723972223\n",
            "  (1, 953)\t0.16230342805594983\n",
            "  (1, 993)\t0.19775478447778447\n",
            "  (1, 80)\t0.2425823437191515\n",
            "  (1, 585)\t0.25525701156840835\n",
            "  (1, 176)\t0.29669240343693287\n",
            "  (1, 19)\t0.1785343739075987\n",
            "  (1, 349)\t0.25002623804715\n",
            "  (1, 878)\t0.1242661103230561\n",
            "  (1, 511)\t0.2390375877054806\n",
            "  (1, 41)\t0.21339580338200512\n",
            "  (1, 631)\t0.15196624291509206\n",
            "  (1, 117)\t0.19865079267131544\n",
            "  :\t:\n",
            "  (1300949, 930)\t0.16196340683316773\n",
            "  (1300949, 195)\t0.05373635792681554\n",
            "  (1300949, 468)\t0.05741007062950552\n",
            "  (1300949, 702)\t0.10860393740222904\n",
            "  (1300949, 633)\t0.05352863151821382\n",
            "  (1300949, 110)\t0.20127369493994332\n",
            "  (1300949, 325)\t0.05210723131589966\n",
            "  (1300949, 171)\t0.1107640003649969\n",
            "  (1300949, 486)\t0.10132817058368833\n",
            "  (1300949, 78)\t0.10615205303878501\n",
            "  (1300949, 819)\t0.04934935036966244\n",
            "  (1300949, 890)\t0.107068091046988\n",
            "  (1300949, 669)\t0.05307696903052651\n",
            "  (1300949, 570)\t0.051380829633025066\n",
            "  (1300949, 572)\t0.04972779029803509\n",
            "  (1300949, 494)\t0.05521303744094995\n",
            "  (1300949, 105)\t0.05596161729341447\n",
            "  (1300950, 84)\t0.17998640614340397\n",
            "  (1300950, 108)\t0.3091328968667849\n",
            "  (1300950, 107)\t0.29991572874991895\n",
            "  (1300950, 505)\t0.19745651075599735\n",
            "  (1300950, 679)\t0.27090049049176845\n",
            "  (1300950, 75)\t0.2565160449118316\n",
            "  (1300950, 483)\t0.28773110032866644\n",
            "  (1300950, 613)\t0.7218909090330536\n",
            "  (2, 186)\t0.736938464422023\n",
            "  (2, 288)\t0.6759598358299926\n",
            "  (3, 34)\t1.0\n",
            "  (4, 353)\t1.0\n",
            "  (5, 494)\t1.0\n",
            "  (6, 381)\t0.7980097532382171\n",
            "  (6, 379)\t0.6026445334827818\n",
            "  (7, 245)\t1.0\n",
            "  (8, 347)\t1.0\n",
            "  (9, 256)\t0.6787145660738182\n",
            "  (9, 230)\t0.7344021635311464\n",
            "  (11, 186)\t0.5944517031584838\n",
            "  (11, 114)\t0.8041313155274937\n",
            "  (12, 259)\t1.0\n",
            "  (13, 338)\t1.0\n",
            "  (14, 491)\t1.0\n",
            "  (15, 184)\t1.0\n",
            "  (16, 114)\t0.7320098552348412\n",
            "  (16, 31)\t0.6812940421279688\n",
            "  (18, 259)\t1.0\n",
            "  (19, 186)\t0.5035826582599046\n",
            "  (19, 163)\t0.8639470506344056\n",
            "  (20, 104)\t1.0\n",
            "  (21, 163)\t0.6265745240375963\n",
            "  (21, 363)\t0.7793615116408174\n",
            "  :\t:\n",
            "  (1300939, 186)\t0.42222186656175437\n",
            "  (1300939, 374)\t0.9064925236300122\n",
            "  (1300940, 259)\t0.3942378019636789\n",
            "  (1300940, 141)\t0.4946581075236485\n",
            "  (1300940, 165)\t0.40822024113881605\n",
            "  (1300940, 140)\t0.6582143624143556\n",
            "  (1300941, 441)\t1.0\n",
            "  (1300942, 402)\t0.4570585322174405\n",
            "  (1300942, 200)\t0.6016004960530752\n",
            "  (1300942, 374)\t0.6551139910549405\n",
            "  (1300943, 347)\t0.6578346018211515\n",
            "  (1300943, 171)\t0.7531624238149479\n",
            "  (1300944, 6)\t1.0\n",
            "  (1300945, 383)\t1.0\n",
            "  (1300946, 186)\t0.4249953552986904\n",
            "  (1300946, 441)\t0.9051955302444549\n",
            "  (1300947, 375)\t0.5959844581540297\n",
            "  (1300947, 154)\t0.5951049031464278\n",
            "  (1300947, 305)\t0.5391221381931263\n",
            "  (1300948, 184)\t0.5888727313351159\n",
            "  (1300948, 406)\t0.8082257768036852\n",
            "  (1300949, 72)\t0.5867922995598033\n",
            "  (1300949, 187)\t0.5265358735900623\n",
            "  (1300949, 115)\t0.6151705218880926\n",
            "  (1300950, 436)\t1.0\n"
          ]
        }
      ],
      "source": [
        "nltk.download('punkt')\n",
        "nltk.download('stopwords')\n",
        "\n",
        "save_path = '/content/drive/MyDrive/cs506_Midterm/Data/X_train.csv'\n",
        "load_path = '/content/drive/MyDrive/cs506_Midterm/Data/X_submission.csv'\n",
        "\n",
        "def add_features_to(df):\n",
        "    # This is where you can do all your feature extraction\n",
        "    df['Helpfulness'] = df['HelpfulnessNumerator'] / df['HelpfulnessDenominator']\n",
        "    df['Helpfulness'] = df['Helpfulness'].fillna(0)\n",
        "\n",
        "    df['Text'] = df['Text'].fillna('')\n",
        "    df['Summary'] = df['Summary'].fillna('')\n",
        "\n",
        "    #stemmed_text = [\" \".join(SnowballStemmer(\"english\", ignore_stopwords=True).stem(word)\n",
        "        #for word in word_tokenize(message.lower()))\n",
        "        #for message in df['Text']]\n",
        "\n",
        "    #stemmed_summary = [\" \".join(SnowballStemmer(\"english\", ignore_stopwords=True).stem(word)\n",
        "        #for word in word_tokenize(message.lower()))\n",
        "        #for message in df['Summary']]\n",
        "\n",
        "    #df['Text'] = stemmed_text\n",
        "    #df['Summary'] = stemmed_summary\n",
        "\n",
        "    #TO-DO: More feature extraction\n",
        "    vectorized_text = TfidfVectorizer(stop_words='english', min_df=4,max_df=0.8, max_features=1000)\n",
        "    vectorized_summary = TfidfVectorizer(stop_words='english', min_df=4,max_df=0.8, max_features=500)\n",
        "    dtm_text = vectorized_text.fit_transform(df['Text'])\n",
        "    dtm_summary = vectorized_summary.fit_transform(df['Summary'])\n",
        "    print(dtm_text)\n",
        "    print(dtm_summary)\n",
        "    return df\n",
        "\n",
        "# Load the feature extracted files if they've already been generated\n",
        "if exists(save_path):\n",
        "    X_train = pd.read_csv(save_path)\n",
        "if exists(load_path):\n",
        "    X_submission = pd.read_csv(load_path)\n",
        "\n",
        "\n",
        "else:\n",
        "    # Process the DataFrame\n",
        "    train = add_features_to(trainingSet)\n",
        "\n",
        "    # Merge on Id so that the submission set can have feature columns as well\n",
        "    X_submission = pd.merge(train, testingSet, left_on='Id', right_on='Id')\n",
        "    X_submission = X_submission.drop(columns=['Score_x'])\n",
        "    X_submission = X_submission.rename(columns={'Score_y': 'Score'})\n",
        "\n",
        "    # The training set is where the score is not null\n",
        "    X_train =  train[train['Score'].notnull()]\n",
        "\n",
        "    X_submission.to_csv(load_path, index=False)\n",
        "    X_train.to_csv(save_path, index=False)"
      ]
    },
    {
      "cell_type": "markdown",
      "metadata": {
        "id": "qfwdEOVl8DHs"
      },
      "source": [
        "# Sample + Split into training and testing set"
      ]
    },
    {
      "cell_type": "code",
      "execution_count": null,
      "metadata": {
        "id": "5Ur4O-pz8DHs"
      },
      "outputs": [],
      "source": [
        "# Split training set into training and testing set\n",
        "X_train, X_test, Y_train, Y_test = train_test_split(\n",
        "    X_train.drop(columns=['Score']),\n",
        "    X_train['Score'],\n",
        "    test_size=1/4.0,\n",
        "    random_state=0\n",
        ")"
      ]
    },
    {
      "cell_type": "markdown",
      "metadata": {
        "id": "4G1e3p7q8DHs"
      },
      "source": [
        "# Feature Selection"
      ]
    },
    {
      "cell_type": "code",
      "execution_count": null,
      "metadata": {
        "id": "U2ovsQrM8DHs"
      },
      "outputs": [],
      "source": [
        "import pandas as pd\n",
        "import numpy as np\n",
        "from sklearn.ensemble import RandomForestClassifier\n",
        "from sklearn.linear_model import Lasso\n",
        "from sklearn.preprocessing import StandardScaler\n",
        "from sklearn.feature_extraction.text import TfidfVectorizer\n",
        "from sklearn.decomposition import PCA\n",
        "from scipy.sparse import csr_matrix, hstack\n",
        "\n",
        "# Define your initial numerical features\n",
        "features = ['HelpfulnessNumerator', 'HelpfulnessDenominator', 'Time', 'Helpfulness']\n",
        "\n",
        "# Fill NaN values in the 'Text' column with empty strings\n",
        "X_train['Text'] = X_train['Text'].fillna('')\n",
        "X_test['Text'] = X_test['Text'].fillna('')\n",
        "X_submission['Text'] = X_submission['Text'].fillna('')\n",
        "\n",
        "# Initialize the TF-IDF Vectorizer with sparse output and limit the number of features\n",
        "vectorizer_text = TfidfVectorizer(stop_words='english', min_df=4, max_df=0.8, max_features=10000)  # Limit features to 10,000\n",
        "\n",
        "# Fit the vectorizer on training data and transform it into a sparse matrix\n",
        "dtm_text_train = vectorizer_text.fit_transform(X_train['Text'])  # Keep in sparse format\n"
      ]
    },
    {
      "cell_type": "code",
      "execution_count": null,
      "metadata": {
        "colab": {
          "base_uri": "https://localhost:8080/"
        },
        "collapsed": true,
        "id": "ftm2_eqmZVDP",
        "outputId": "88c55b2a-37a9-4904-b7b3-bbc9f2441dd3"
      },
      "outputs": [
        {
          "output_type": "stream",
          "name": "stdout",
          "text": [
            "Error loading pickled file: invalid load key, '\\xef'.. Retraining Lasso model...\n"
          ]
        }
      ],
      "source": [
        "import os\n",
        "import pickle\n",
        "# Combine numerical features with TF-IDF features for training data using sparse format\n",
        "X_train_select = X_train[features]\n",
        "numerical_sparse_train = csr_matrix(X_train_select.values)  # Keep numerical data as sparse\n",
        "X_combined_train = hstack([numerical_sparse_train, dtm_text_train], format='csr')\n",
        "\n",
        "# Standardize the combined features for Lasso\n",
        "scaler = StandardScaler(with_mean=False)  # Keep sparse format\n",
        "X_train_scaled = scaler.fit_transform(X_combined_train)\n",
        "y_train = Y_train  # Target variable\n",
        "\n",
        "pickle_path = '/content/drive/MyDrive/cs506_Midterm/Data/lasso_results.pkl'\n",
        "\n",
        "try:\n",
        "    with open(pickle_path, 'rb') as f:\n",
        "        lasso, lasso_coefficients, important_features = pickle.load(f)\n",
        "except (pickle.PickleError, EOFError, FileNotFoundError) as e:  # Import and handle PickleError\n",
        "    print(f\"Error loading pickled file: {e}. Retraining Lasso model...\")\n",
        "    # Fit Lasso for feature selection with sparse matrix handling if loading fails\n",
        "    lasso = Lasso(alpha=0.01, random_state=42, max_iter=10000)  # Adjust alpha for regularization strength\n",
        "    lasso.fit(X_train_scaled, y_train)\n",
        "    lasso_coefficients = pd.Series(lasso.coef_, index=vectorizer_text.get_feature_names_out().tolist() + features)\n",
        "    important_features = lasso_coefficients[lasso_coefficients != 0].index.tolist()\n",
        "\n",
        "    with open('lasso_results.pkl', 'wb') as f:\n",
        "        pickle.dump((lasso, lasso_coefficients, important_features), f)"
      ]
    },
    {
      "cell_type": "code",
      "execution_count": null,
      "metadata": {
        "colab": {
          "base_uri": "https://localhost:8080/"
        },
        "id": "S8txiYZIZi0A",
        "outputId": "eafdac94-f13e-456d-8f70-91670fc84eba"
      },
      "outputs": [
        {
          "output_type": "stream",
          "name": "stdout",
          "text": [
            "Features selected by Lasso:\n",
            "['00', '000', '007', '01', 'abandon', 'abound', 'abused', 'accent', 'accepts', 'actions', 'active', 'activities', 'activity', 'actual', 'administration', 'adrian', 'advertising', 'aerobics', 'ago', 'aka', 'albert', 'alpha', 'alternative', 'amazingly', 'amazon', 'ambassador', 'amber', 'anne', 'answered', 'appealing', 'appear', 'applied', 'approached', 'arrogant', 'ashes', 'asia', 'ass', 'asylum', 'ate', 'attacked', 'attenborough', 'attend', 'attending', 'audition', 'audrey', 'avoided', 'await', 'awards', 'awkward', 'awry', 'babies', 'bait', 'baked', 'bandits', 'barnes', 'bars', 'basis', 'beck', 'beckinsale', 'becky', 'betrayed', 'bewitched', 'bible', 'biological', 'blamed', 'blank', 'blatant', 'bleeding', 'boasts', 'bombs', 'book', 'borderline', 'boring', 'boris', 'born', 'borrowed', 'bought', 'bouncing', 'break', 'breathtaking', 'brennan', 'brings', 'brink', 'britain', 'bruno', 'buffs', 'buried', 'button', 'buzz', 'byrne', 'cameras', 'camp', 'captive', 'captures', 'cardboard', 'cared', 'carefree', 'casting', 'causing', 'change', 'characterizations', 'cheated', 'check', 'checking', 'cher', 'chilling', 'chinatown', 'chorus', 'chuck', 'classroom', 'clear', 'clerks', 'click', 'client', 'clients', 'cliff', 'collectors', 'commands', 'commercial', 'commercials', 'completely', 'complexity', 'complications', 'concerning', 'conducting', 'connect', 'connected', 'contained', 'containing', 'continuously', 'controls', 'cooking', 'corps', 'cotton', 'counted', 'couple', 'courtesy', 'courtroom', 'covers', 'crap', 'crashes', 'crashing', 'credits', 'criminal', 'critically', 'cronenberg', 'crosses', 'cutter', 'cutting', 'daleks', 'dc', 'deadly', 'decidedly', 'defeated', 'defies', 'degree', 'deliver', 'delivered', 'delivering', 'delve', 'deputy', 'described', 'deserve', 'deserving', 'desperate', 'di', 'diamonds', 'died', 'diego', 'diehard', 'difficulty', 'dinosaur', 'dirt', 'disappearing', 'disaster', 'disasters', 'disastrous', 'disbelief', 'disc', 'disco', 'disgusted', 'disk', 'disks', 'disliked', 'dismissed', 'disney', 'distinction', 'district', 'does', 'dogs', 'doing', 'donnell', 'doomsday', 'downside', 'drag', 'drags', 'dramatic', 'dreaming', 'dreams', 'dredd', 'dressed', 'dresses', 'driving', 'duel', 'dumped', 'dunaway', 'dwight', 'eats', 'edit', 'editions', 'edits', 'efforts', 'eggs', 'embrace', 'emerge', 'emergency', 'empathy', 'emphasis', 'endured', 'enhances', 'enjoyment', 'enjoys', 'enlightening', 'enlists', 'ensemble', 'equal', 'equally', 'essence', 'evident', 'excellent', 'exceptional', 'excessive', 'executives', 'exit', 'expense', 'expensive', 'experiment', 'explodes', 'extreme', 'extremes', 'eye', 'facial', 'failures', 'fair', 'fairly', 'fairytale', 'falling', 'familiar', 'familiarity', 'fanatics', 'fanning', 'fare', 'fargo', 'farley', 'fashioned', 'faux', 'favorite', 'faye', 'fbi', 'fear', 'february', 'feet', 'female', 'feminist', 'filmmakers', 'final', 'fincher', 'finished', 'finney', 'firmly', 'flawless', 'fleeing', 'flowers', 'footage', 'foreign', 'forgiveness', 'forth', 'franco', 'freak', 'freeman', 'frenzy', 'friends', 'frightened', 'frightening', 'fuel', 'funeral', 'furthermore', 'fury', 'gable', 'gardner', 'gee', 'gems', 'gene', 'genetically', 'gentleman', 'gigantic', 'gladiator', 'gladly', 'glamour', 'god', 'gooding', 'grandeur', 'gray', 'greatness', 'greed', 'grieving', 'gritty', 'groundbreaking', 'grudge', 'guests', 'haha', 'haired', 'hallmark', 'halloween', 'hardcore', 'hardest', 'harm', 'hatred', 'havoc', 'hawaii', 'heal', 'heartfelt', 'hearts', 'heaven', 'hector', 'helpless', 'henry', 'hi', 'highlights', 'hilarity', 'hill', 'hitler', 'holidays', 'hollow', 'homage', 'hoot', 'hopeless', 'hopelessly', 'horizon', 'horn', 'horrific', 'horrified', 'horrifying', 'horror', 'housekeeper', 'humanity', 'humble', 'humor', 'humorous', 'hundreds', 'hysterical', 'ideas', 'ignorance', 'ignorant', 'ignore', 'illustrates', 'immense', 'immensely', 'import', 'impressed', 'inception', 'income', 'incompetent', 'incomprehensible', 'incorporate', 'incorporated', 'increase', 'india', 'inept', 'inexplicably', 'inferior', 'influence', 'ingredients', 'inspector', 'instances', 'institution', 'intact', 'integral', 'intense', 'intention', 'interiors', 'intricate', 'isabelle', 'israel', 'joe', 'jon', 'jonathan', 'jr', 'judd', 'jury', 'justin', 'kane', 'karate', 'keeper', 'keitel', 'kelly', 'kidnapping', 'killings', 'kinda', 'kutcher', 'lacks', 'ladd', 'ladder', 'laden', 'ladies', 'land', 'laughing', 'laughs', 'laughter', 'laughton', 'launch', 'laura', 'leaders', 'leather', 'legally', 'letter', 'letters', 'license', 'lifetime', 'lift', 'likes', 'liking', 'limbs', 'lines', 'lizzie', 'loaded', 'lois', 'lone', 'looney', 'loop', 'loose', 'loss', 'lou', 'lovecraft', 'lovely', 'loves', 'lowe', 'lower', 'loy', 'lt', 'lucky', 'lunch', 'maiden', 'makeup', 'malcolm', 'male', 'manager', 'marple', 'mash', 'masterpieces', 'masters', 'match', 'matheson', 'mccarthy', 'meaningless', 'means', 'measure', 'meet', 'menacing', 'mermaid', 'merry', 'messages', 'messed', 'messing', 'milk', 'minimal', 'miracles', 'mirren', 'misfits', 'misguided', 'misleading', 'missile', 'missing', 'missions', 'mist', 'misty', 'mona', 'monday', 'monkey', 'mortal', 'mozart', 'mrs', 'multiple', 'nancy', 'newest', 'nichols', 'nicholson', 'nominated', 'nope', 'nora', 'normal', 'noteworthy', 'numbing', 'observe', 'occasionally', 'occasions', 'offerings', 'ol', 'older', 'oldest', 'origins', 'overall', 'overt', 'pack', 'paid', 'pains', 'painted', 'painter', 'paintings', 'parallels', 'parent', 'participate', 'passed', 'passenger', 'patient', 'payoff', 'pays', 'pbs', 'peers', 'performance', 'performances', 'performed', 'personnel', 'philip', 'pig', 'pimp', 'pixar', 'planet', 'players', 'plays', 'pleasures', 'plenty', 'plight', 'plot', 'plots', 'plotted', 'pointless', 'points', 'poke', 'pope', 'popeye', 'portion', 'possessed', 'pound', 'powerhouse', 'ppv', 'preferred', 'preparing', 'present', 'prevents', 'preview', 'price', 'pride', 'priests', 'proceedings', 'production', 'profanity', 'prometheus', 'promoted', 'prophecy', 'proposal', 'proves', 'pseudo', 'psycho', 'pun', 'pursued', 'quaid', 'quotes', 'ranger', 'rated', 'ratings', 'rats', 'rave', 'reach', 'reading', 'realization', 'reasons', 'recorded', 'recordings', 'redeeming', 'redford', 'redneck', 'reese', 'refuse', 'refusing', 'relevance', 'remarks', 'remastering', 'remind', 'ren', 'repair', 'repeat', 'repeated', 'repeatedly', 'replacing', 'require', 'retirement', 'reunion', 'reunite', 'reviewing', 'ridiculous', 'rifle', 'rights', 'ripper', 'rips', 'rise', 'roaring', 'roddy', 'rudolph', 'ruled', 'rules', 'russians', 'safety', 'sally', 'savvy', 'saying', 'scale', 'scared', 'schemes', 'screaming', 'screenplay', 'scrooge', 'seated', 'seattle', 'sebastian', 'secrets', 'segments', 'selling', 'sensibility', 'sensible', 'servant', 'servants', 'settings', 'sexy', 'shannon', 'shape', 'shark', 'shattered', 'shipped', 'shooter', 'shut', 'sick', 'sidekick', 'sides', 'similarity', 'simply', 'sixties', 'skies', 'skit', 'skits', 'skull', 'sleepy', 'slows', 'sly', 'socially', 'solace', 'song', 'soooo', 'sophia', 'sought', 'soul', 'speed', 'spice', 'spiderman', 'spiders', 'spoiling', 'staring', 'starters', 'steady', 'step', 'stern', 'steve', 'stiller', 'sting', 'stir', 'stitch', 'stock', 'stores', 'stretched', 'struck', 'stuffed', 'stupid', 'stylish', 'stylistic', 'subtitle', 'suburban', 'subway', 'sucks', 'sudden', 'suffer', 'sugar', 'superheroes', 'superior', 'superman', 'suprised', 'sure', 'surely', 'surprisingly', 'surreal', 'swim', 'talented', 'talk', 'tattoo', 'tatum', 'teaches', 'technically', 'teenager', 'tells', 'temple', 'terrifying', 'territory', 'terror', 'thanksgiving', 'theater', 'thinks', 'thirds', 'thirties', 'thoughts', 'thousands', 'thrillers', 'throws', 'timely', 'timing', 'tin', 'tina', 'titled', 'tna', 'toes', 'tolerable', 'total', 'touches', 'tourists', 'trailers', 'trainer', 'travel', 'treasures', 'treating', 'treats', 'trial', 'trinity', 'trio', 'trite', 'trivial', 'trust', 'truth', 'tune', 'turner', 'turtle', 'twice', 'typical', 'ultimate', 'ultimately', 'unbearable', 'uncle', 'undead', 'underneath', 'understanding', 'unfair', 'unfamiliar', 'unfunny', 'uniformly', 'uniforms', 'union', 'unique', 'uniquely', 'unit', 'universal', 'unlikely', 'unnatural', 'unnecessarily', 'unnecessary', 'unpredictable', 'unravel', 'unreal', 'unsettling', 'unstoppable', 'update', 'usual', 'vague', 'variety', 'vessel', 'vic', 'vigilante', 'wade', 'waits', 'walks', 'wants', 'warehouse', 'warnings', 'warns', 'wastes', 'wasting', 'watch', 'watchable', 'watched', 'watcher', 'watches', 'watching', 'water', 'wave', 'weaker', 'weaknesses', 'weight', 'welcome', 'welcomed', 'wheels', 'winds', 'wolf', 'wonderfully', 'wonders', 'wong', 'word', 'worlds', 'worn', 'worried', 'worship', 'worthless', 'worthy', 'wound', 'woven', 'wrestler', 'writers', 'written', 'wtf', 'ww', 'wwf', 'yell', 'yellow', 'yen', 'youth', 'zoe']\n"
          ]
        }
      ],
      "source": [
        "lasso_coefficients = pd.Series(lasso.coef_, index=vectorizer_text.get_feature_names_out().tolist() + features)\n",
        "important_features = lasso_coefficients[lasso_coefficients != 0].index.tolist()\n",
        "print(\"Features selected by Lasso:\")\n",
        "print(important_features)\n",
        "\n",
        "# Use the Lasso-selected features for PCA\n",
        "# Keep only the selected features for PCA\n",
        "X_train_lasso_selected = X_train_scaled[:, lasso_coefficients != 0]\n",
        "\n",
        "# Initialize PCA with desired number of components (e.g., 50)\n",
        "pca = PCA(n_components=50)\n",
        "\n",
        "X_train_pca = pca.fit_transform(X_train_lasso_selected)\n",
        "\n",
        "\n",
        "# ---- Apply to Test Set ----\n",
        "# Transform the test set using the same vectorizer and sparse format\n",
        "dtm_text_test = vectorizer_text.transform(X_test['Text'])  # Use transform, not fit_transform\n",
        "numerical_sparse_test = csr_matrix(X_test[features].values)\n",
        "X_combined_test = hstack([numerical_sparse_test, dtm_text_test], format='csr')\n",
        "\n",
        "# Apply the same standardization to the test set\n",
        "X_test_scaled = scaler.transform(X_combined_test)\n",
        "X_test_lasso_selected = X_test_scaled[:, lasso_coefficients != 0]  # Use only selected features\n",
        "X_test_pca = pca.transform(X_test_lasso_selected)  # Apply PCA transformation\n"
      ]
    },
    {
      "cell_type": "code",
      "execution_count": null,
      "metadata": {
        "id": "NHppFOn7d1Hp"
      },
      "outputs": [],
      "source": [
        "x"
      ]
    },
    {
      "cell_type": "markdown",
      "metadata": {
        "id": "putDckoX8DHs"
      },
      "source": [
        "# Model Creation"
      ]
    },
    {
      "cell_type": "code",
      "execution_count": null,
      "metadata": {
        "colab": {
          "base_uri": "https://localhost:8080/"
        },
        "id": "YGayrDl98DHs",
        "outputId": "9a063f1d-6a12-42c6-a714-fbdf91bb4cf0"
      },
      "outputs": [
        {
          "output_type": "stream",
          "name": "stdout",
          "text": [
            "Fold 1 MSE: 1.0967\n",
            "Fold 2 MSE: 1.0839\n",
            "Fold 3 MSE: 1.0886\n",
            "Fold 4 MSE: 1.0863\n",
            "Fold 5 MSE: 1.0867\n",
            "Best Mean Squared Error across folds: 1.0839\n",
            "Logistic Regression best MSE: 1.0838874805589234\n",
            "Test set accuracy: 0.5251552224549029\n"
          ]
        }
      ],
      "source": [
        "import numpy as np\n",
        "import pandas as pd\n",
        "from sklearn.linear_model import LogisticRegression\n",
        "from sklearn.model_selection import KFold\n",
        "from sklearn.metrics import mean_squared_error, accuracy_score\n",
        "from sklearn.preprocessing import StandardScaler # Make sure to import StandardScaler\n",
        "\n",
        "# Define a cross-validation function\n",
        "def cross_validate_kfold(k, X, y, estimator):\n",
        "    np.random.seed(1)\n",
        "    best_score = float('inf')\n",
        "    optimal_model = None\n",
        "\n",
        "    kf = KFold(n_splits=k, shuffle=True, random_state=1)\n",
        "\n",
        "    for fold, (train_indices, test_indices) in enumerate(kf.split(X), 1):\n",
        "        X_train, X_test = X[train_indices], X[test_indices]\n",
        "        y_train, y_test = y.iloc[train_indices], y.iloc[test_indices]\n",
        "\n",
        "        estimator.fit(X_train, y_train)\n",
        "        y_pred = estimator.predict(X_test)\n",
        "\n",
        "        fold_score = mean_squared_error(y_test, y_pred)\n",
        "        print(f\"Fold {fold} MSE: {fold_score:.4f}\")\n",
        "\n",
        "        if fold_score < best_score:\n",
        "            best_score = fold_score\n",
        "            optimal_model = estimator\n",
        "\n",
        "    print(f\"Best Mean Squared Error across folds: {best_score:.4f}\")\n",
        "    return optimal_model, best_score\n",
        "\n",
        "# ---- Model Training and Evaluation (Logistic Regression only) ----\n",
        "\n",
        "logistic_model = LogisticRegression(random_state=0)\n",
        "best_logistic_model, best_logistic_score = cross_validate_kfold(5, X_train_pca, Y_train, logistic_model)\n",
        "print(\"Logistic Regression best MSE:\", best_logistic_score)\n",
        "\n",
        "# ---- Final Model Evaluation on Test Set ----\n",
        "\n",
        "best_logistic_model.fit(X_train_pca, Y_train) # Using the best logistic model\n",
        "Y_test_predictions = best_logistic_model.predict(X_test_pca)\n",
        "\n",
        "test_accuracy = accuracy_score(Y_test, Y_test_predictions) # Assuming Y_test is defined\n",
        "print(\"Test set accuracy:\", test_accuracy)"
      ]
    },
    {
      "cell_type": "markdown",
      "metadata": {
        "id": "MAlqlrND8DHt"
      },
      "source": [
        "# Model Evaluation"
      ]
    },
    {
      "cell_type": "code",
      "execution_count": null,
      "metadata": {
        "colab": {
          "base_uri": "https://localhost:8080/",
          "height": 489
        },
        "id": "WyuBkHv78DHt",
        "outputId": "5327f647-d216-4aaa-97dc-011e8cdc8f09"
      },
      "outputs": [
        {
          "output_type": "stream",
          "name": "stdout",
          "text": [
            "Accuracy on testing set =  0.5251552224549029\n"
          ]
        },
        {
          "output_type": "display_data",
          "data": {
            "text/plain": [
              "<Figure size 640x480 with 2 Axes>"
            ],
            "image/png": "[encoded data removed]"
          },
          "metadata": {}
        }
      ],
      "source": [
        "# Evaluate your model on the testing set\n",
        "print(\"Accuracy on testing set = \", accuracy_score(Y_test, Y_test_predictions))\n",
        "\n",
        "# Plot a confusion matrix\n",
        "cm = confusion_matrix(Y_test, Y_test_predictions, normalize='true')\n",
        "sns.heatmap(cm, annot=True)\n",
        "plt.title('Confusion matrix of the classifier')\n",
        "plt.xlabel('Predicted')\n",
        "plt.ylabel('True')\n",
        "plt.show()"
      ]
    },
    {
      "cell_type": "markdown",
      "metadata": {
        "id": "763tItgV8DHt"
      },
      "source": [
        "# Create submission file"
      ]
    },
    {
      "cell_type": "code",
      "execution_count": null,
      "metadata": {
        "id": "KAfV_sxc8DHt",
        "colab": {
          "base_uri": "https://localhost:8080/",
          "height": 408
        },
        "outputId": "3f9a72c0-aeb5-4681-fc65-a713df90b9d5"
      },
      "outputs": [
        {
          "output_type": "error",
          "ename": "KeyboardInterrupt",
          "evalue": "",
          "traceback": [
            "\u001b[0;31m---------------------------------------------------------------------------\u001b[0m",
            "\u001b[0;31mKeyboardInterrupt\u001b[0m                         Traceback (most recent call last)",
            "\u001b[0;32m<ipython-input-30-b3f67010578f>\u001b[0m in \u001b[0;36m<cell line: 21>\u001b[0;34m()\u001b[0m\n\u001b[1;32m     19\u001b[0m \u001b[0;34m\u001b[0m\u001b[0m\n\u001b[1;32m     20\u001b[0m \u001b[0;31m# Process and predict on submission data\u001b[0m\u001b[0;34m\u001b[0m\u001b[0;34m\u001b[0m\u001b[0m\n\u001b[0;32m---> 21\u001b[0;31m \u001b[0mX_submission_final\u001b[0m \u001b[0;34m=\u001b[0m \u001b[0mpreprocess_submission_data\u001b[0m\u001b[0;34m(\u001b[0m\u001b[0mX_submission\u001b[0m\u001b[0;34m.\u001b[0m\u001b[0mcopy\u001b[0m\u001b[0;34m(\u001b[0m\u001b[0;34m)\u001b[0m\u001b[0;34m,\u001b[0m \u001b[0mencoder\u001b[0m\u001b[0;34m)\u001b[0m\u001b[0;34m\u001b[0m\u001b[0;34m\u001b[0m\u001b[0m\n\u001b[0m\u001b[1;32m     22\u001b[0m \u001b[0mX_submission\u001b[0m\u001b[0;34m[\u001b[0m\u001b[0;34m'Score'\u001b[0m\u001b[0;34m]\u001b[0m \u001b[0;34m=\u001b[0m \u001b[0mbest_logistic_model\u001b[0m\u001b[0;34m.\u001b[0m\u001b[0mpredict\u001b[0m\u001b[0;34m(\u001b[0m\u001b[0mX_submission_final\u001b[0m\u001b[0;34m)\u001b[0m\u001b[0;34m\u001b[0m\u001b[0;34m\u001b[0m\u001b[0m\n",
            "\u001b[0;32m<ipython-input-30-b3f67010578f>\u001b[0m in \u001b[0;36mpreprocess_submission_data\u001b[0;34m(X_submission, encoder)\u001b[0m\n\u001b[1;32m     12\u001b[0m \u001b[0;34m\u001b[0m\u001b[0m\n\u001b[1;32m     13\u001b[0m     \u001b[0;31m# Check for unseen labels and replace them with a placeholder\u001b[0m\u001b[0;34m\u001b[0m\u001b[0;34m\u001b[0m\u001b[0m\n\u001b[0;32m---> 14\u001b[0;31m     X_submission['ProductId_encoded'] = X_submission['ProductId'].apply(\n\u001b[0m\u001b[1;32m     15\u001b[0m         \u001b[0;32mlambda\u001b[0m \u001b[0mx\u001b[0m\u001b[0;34m:\u001b[0m \u001b[0mencoder\u001b[0m\u001b[0;34m.\u001b[0m\u001b[0mtransform\u001b[0m\u001b[0;34m(\u001b[0m\u001b[0;34m[\u001b[0m\u001b[0mx\u001b[0m\u001b[0;34m]\u001b[0m\u001b[0;34m)\u001b[0m\u001b[0;34m[\u001b[0m\u001b[0;36m0\u001b[0m\u001b[0;34m]\u001b[0m \u001b[0;32mif\u001b[0m \u001b[0mx\u001b[0m \u001b[0;32min\u001b[0m \u001b[0mencoder\u001b[0m\u001b[0;34m.\u001b[0m\u001b[0mclasses_\u001b[0m \u001b[0;32melse\u001b[0m \u001b[0;34m-\u001b[0m\u001b[0;36m1\u001b[0m\u001b[0;34m\u001b[0m\u001b[0;34m\u001b[0m\u001b[0m\n\u001b[1;32m     16\u001b[0m     )\n",
            "\u001b[0;32m/usr/local/lib/python3.10/dist-packages/pandas/core/series.py\u001b[0m in \u001b[0;36mapply\u001b[0;34m(self, func, convert_dtype, args, by_row, **kwargs)\u001b[0m\n\u001b[1;32m   4922\u001b[0m             \u001b[0margs\u001b[0m\u001b[0;34m=\u001b[0m\u001b[0margs\u001b[0m\u001b[0;34m,\u001b[0m\u001b[0;34m\u001b[0m\u001b[0;34m\u001b[0m\u001b[0m\n\u001b[1;32m   4923\u001b[0m             \u001b[0mkwargs\u001b[0m\u001b[0;34m=\u001b[0m\u001b[0mkwargs\u001b[0m\u001b[0;34m,\u001b[0m\u001b[0;34m\u001b[0m\u001b[0;34m\u001b[0m\u001b[0m\n\u001b[0;32m-> 4924\u001b[0;31m         ).apply()\n\u001b[0m\u001b[1;32m   4925\u001b[0m \u001b[0;34m\u001b[0m\u001b[0m\n\u001b[1;32m   4926\u001b[0m     def _reindex_indexer(\n",
            "\u001b[0;32m/usr/local/lib/python3.10/dist-packages/pandas/core/apply.py\u001b[0m in \u001b[0;36mapply\u001b[0;34m(self)\u001b[0m\n\u001b[1;32m   1425\u001b[0m \u001b[0;34m\u001b[0m\u001b[0m\n\u001b[1;32m   1426\u001b[0m         \u001b[0;31m# self.func is Callable\u001b[0m\u001b[0;34m\u001b[0m\u001b[0;34m\u001b[0m\u001b[0m\n\u001b[0;32m-> 1427\u001b[0;31m         \u001b[0;32mreturn\u001b[0m \u001b[0mself\u001b[0m\u001b[0;34m.\u001b[0m\u001b[0mapply_standard\u001b[0m\u001b[0;34m(\u001b[0m\u001b[0;34m)\u001b[0m\u001b[0;34m\u001b[0m\u001b[0;34m\u001b[0m\u001b[0m\n\u001b[0m\u001b[1;32m   1428\u001b[0m \u001b[0;34m\u001b[0m\u001b[0m\n\u001b[1;32m   1429\u001b[0m     \u001b[0;32mdef\u001b[0m \u001b[0magg\u001b[0m\u001b[0;34m(\u001b[0m\u001b[0mself\u001b[0m\u001b[0;34m)\u001b[0m\u001b[0;34m:\u001b[0m\u001b[0;34m\u001b[0m\u001b[0;34m\u001b[0m\u001b[0m\n",
            "\u001b[0;32m/usr/local/lib/python3.10/dist-packages/pandas/core/apply.py\u001b[0m in \u001b[0;36mapply_standard\u001b[0;34m(self)\u001b[0m\n\u001b[1;32m   1505\u001b[0m         \u001b[0;31m#  Categorical (GH51645).\u001b[0m\u001b[0;34m\u001b[0m\u001b[0;34m\u001b[0m\u001b[0m\n\u001b[1;32m   1506\u001b[0m         \u001b[0maction\u001b[0m \u001b[0;34m=\u001b[0m \u001b[0;34m\"ignore\"\u001b[0m \u001b[0;32mif\u001b[0m \u001b[0misinstance\u001b[0m\u001b[0;34m(\u001b[0m\u001b[0mobj\u001b[0m\u001b[0;34m.\u001b[0m\u001b[0mdtype\u001b[0m\u001b[0;34m,\u001b[0m \u001b[0mCategoricalDtype\u001b[0m\u001b[0;34m)\u001b[0m \u001b[0;32melse\u001b[0m \u001b[0;32mNone\u001b[0m\u001b[0;34m\u001b[0m\u001b[0;34m\u001b[0m\u001b[0m\n\u001b[0;32m-> 1507\u001b[0;31m         mapped = obj._map_values(\n\u001b[0m\u001b[1;32m   1508\u001b[0m             \u001b[0mmapper\u001b[0m\u001b[0;34m=\u001b[0m\u001b[0mcurried\u001b[0m\u001b[0;34m,\u001b[0m \u001b[0mna_action\u001b[0m\u001b[0;34m=\u001b[0m\u001b[0maction\u001b[0m\u001b[0;34m,\u001b[0m \u001b[0mconvert\u001b[0m\u001b[0;34m=\u001b[0m\u001b[0mself\u001b[0m\u001b[0;34m.\u001b[0m\u001b[0mconvert_dtype\u001b[0m\u001b[0;34m\u001b[0m\u001b[0;34m\u001b[0m\u001b[0m\n\u001b[1;32m   1509\u001b[0m         )\n",
            "\u001b[0;32m/usr/local/lib/python3.10/dist-packages/pandas/core/base.py\u001b[0m in \u001b[0;36m_map_values\u001b[0;34m(self, mapper, na_action, convert)\u001b[0m\n\u001b[1;32m    919\u001b[0m             \u001b[0;32mreturn\u001b[0m \u001b[0marr\u001b[0m\u001b[0;34m.\u001b[0m\u001b[0mmap\u001b[0m\u001b[0;34m(\u001b[0m\u001b[0mmapper\u001b[0m\u001b[0;34m,\u001b[0m \u001b[0mna_action\u001b[0m\u001b[0;34m=\u001b[0m\u001b[0mna_action\u001b[0m\u001b[0;34m)\u001b[0m\u001b[0;34m\u001b[0m\u001b[0;34m\u001b[0m\u001b[0m\n\u001b[1;32m    920\u001b[0m \u001b[0;34m\u001b[0m\u001b[0m\n\u001b[0;32m--> 921\u001b[0;31m         \u001b[0;32mreturn\u001b[0m \u001b[0malgorithms\u001b[0m\u001b[0;34m.\u001b[0m\u001b[0mmap_array\u001b[0m\u001b[0;34m(\u001b[0m\u001b[0marr\u001b[0m\u001b[0;34m,\u001b[0m \u001b[0mmapper\u001b[0m\u001b[0;34m,\u001b[0m \u001b[0mna_action\u001b[0m\u001b[0;34m=\u001b[0m\u001b[0mna_action\u001b[0m\u001b[0;34m,\u001b[0m \u001b[0mconvert\u001b[0m\u001b[0;34m=\u001b[0m\u001b[0mconvert\u001b[0m\u001b[0;34m)\u001b[0m\u001b[0;34m\u001b[0m\u001b[0;34m\u001b[0m\u001b[0m\n\u001b[0m\u001b[1;32m    922\u001b[0m \u001b[0;34m\u001b[0m\u001b[0m\n\u001b[1;32m    923\u001b[0m     \u001b[0;34m@\u001b[0m\u001b[0mfinal\u001b[0m\u001b[0;34m\u001b[0m\u001b[0;34m\u001b[0m\u001b[0m\n",
            "\u001b[0;32m/usr/local/lib/python3.10/dist-packages/pandas/core/algorithms.py\u001b[0m in \u001b[0;36mmap_array\u001b[0;34m(arr, mapper, na_action, convert)\u001b[0m\n\u001b[1;32m   1741\u001b[0m     \u001b[0mvalues\u001b[0m \u001b[0;34m=\u001b[0m \u001b[0marr\u001b[0m\u001b[0;34m.\u001b[0m\u001b[0mastype\u001b[0m\u001b[0;34m(\u001b[0m\u001b[0mobject\u001b[0m\u001b[0;34m,\u001b[0m \u001b[0mcopy\u001b[0m\u001b[0;34m=\u001b[0m\u001b[0;32mFalse\u001b[0m\u001b[0;34m)\u001b[0m\u001b[0;34m\u001b[0m\u001b[0;34m\u001b[0m\u001b[0m\n\u001b[1;32m   1742\u001b[0m     \u001b[0;32mif\u001b[0m \u001b[0mna_action\u001b[0m \u001b[0;32mis\u001b[0m \u001b[0;32mNone\u001b[0m\u001b[0;34m:\u001b[0m\u001b[0;34m\u001b[0m\u001b[0;34m\u001b[0m\u001b[0m\n\u001b[0;32m-> 1743\u001b[0;31m         \u001b[0;32mreturn\u001b[0m \u001b[0mlib\u001b[0m\u001b[0;34m.\u001b[0m\u001b[0mmap_infer\u001b[0m\u001b[0;34m(\u001b[0m\u001b[0mvalues\u001b[0m\u001b[0;34m,\u001b[0m \u001b[0mmapper\u001b[0m\u001b[0;34m,\u001b[0m \u001b[0mconvert\u001b[0m\u001b[0;34m=\u001b[0m\u001b[0mconvert\u001b[0m\u001b[0;34m)\u001b[0m\u001b[0;34m\u001b[0m\u001b[0;34m\u001b[0m\u001b[0m\n\u001b[0m\u001b[1;32m   1744\u001b[0m     \u001b[0;32melse\u001b[0m\u001b[0;34m:\u001b[0m\u001b[0;34m\u001b[0m\u001b[0;34m\u001b[0m\u001b[0m\n\u001b[1;32m   1745\u001b[0m         return lib.map_infer_mask(\n",
            "\u001b[0;32mlib.pyx\u001b[0m in \u001b[0;36mpandas._libs.lib.map_infer\u001b[0;34m()\u001b[0m\n",
            "\u001b[0;32m<ipython-input-30-b3f67010578f>\u001b[0m in \u001b[0;36m<lambda>\u001b[0;34m(x)\u001b[0m\n\u001b[1;32m     13\u001b[0m     \u001b[0;31m# Check for unseen labels and replace them with a placeholder\u001b[0m\u001b[0;34m\u001b[0m\u001b[0;34m\u001b[0m\u001b[0m\n\u001b[1;32m     14\u001b[0m     X_submission['ProductId_encoded'] = X_submission['ProductId'].apply(\n\u001b[0;32m---> 15\u001b[0;31m         \u001b[0;32mlambda\u001b[0m \u001b[0mx\u001b[0m\u001b[0;34m:\u001b[0m \u001b[0mencoder\u001b[0m\u001b[0;34m.\u001b[0m\u001b[0mtransform\u001b[0m\u001b[0;34m(\u001b[0m\u001b[0;34m[\u001b[0m\u001b[0mx\u001b[0m\u001b[0;34m]\u001b[0m\u001b[0;34m)\u001b[0m\u001b[0;34m[\u001b[0m\u001b[0;36m0\u001b[0m\u001b[0;34m]\u001b[0m \u001b[0;32mif\u001b[0m \u001b[0mx\u001b[0m \u001b[0;32min\u001b[0m \u001b[0mencoder\u001b[0m\u001b[0;34m.\u001b[0m\u001b[0mclasses_\u001b[0m \u001b[0;32melse\u001b[0m \u001b[0;34m-\u001b[0m\u001b[0;36m1\u001b[0m\u001b[0;34m\u001b[0m\u001b[0;34m\u001b[0m\u001b[0m\n\u001b[0m\u001b[1;32m     16\u001b[0m     )\n\u001b[1;32m     17\u001b[0m \u001b[0;34m\u001b[0m\u001b[0m\n",
            "\u001b[0;32m/usr/local/lib/python3.10/dist-packages/sklearn/preprocessing/_label.py\u001b[0m in \u001b[0;36mtransform\u001b[0;34m(self, y)\u001b[0m\n\u001b[1;32m    135\u001b[0m             \u001b[0;32mreturn\u001b[0m \u001b[0mnp\u001b[0m\u001b[0;34m.\u001b[0m\u001b[0marray\u001b[0m\u001b[0;34m(\u001b[0m\u001b[0;34m[\u001b[0m\u001b[0;34m]\u001b[0m\u001b[0;34m)\u001b[0m\u001b[0;34m\u001b[0m\u001b[0;34m\u001b[0m\u001b[0m\n\u001b[1;32m    136\u001b[0m \u001b[0;34m\u001b[0m\u001b[0m\n\u001b[0;32m--> 137\u001b[0;31m         \u001b[0;32mreturn\u001b[0m \u001b[0m_encode\u001b[0m\u001b[0;34m(\u001b[0m\u001b[0my\u001b[0m\u001b[0;34m,\u001b[0m \u001b[0muniques\u001b[0m\u001b[0;34m=\u001b[0m\u001b[0mself\u001b[0m\u001b[0;34m.\u001b[0m\u001b[0mclasses_\u001b[0m\u001b[0;34m)\u001b[0m\u001b[0;34m\u001b[0m\u001b[0;34m\u001b[0m\u001b[0m\n\u001b[0m\u001b[1;32m    138\u001b[0m \u001b[0;34m\u001b[0m\u001b[0m\n\u001b[1;32m    139\u001b[0m     \u001b[0;32mdef\u001b[0m \u001b[0minverse_transform\u001b[0m\u001b[0;34m(\u001b[0m\u001b[0mself\u001b[0m\u001b[0;34m,\u001b[0m \u001b[0my\u001b[0m\u001b[0;34m)\u001b[0m\u001b[0;34m:\u001b[0m\u001b[0;34m\u001b[0m\u001b[0;34m\u001b[0m\u001b[0m\n",
            "\u001b[0;32m/usr/local/lib/python3.10/dist-packages/sklearn/utils/_encode.py\u001b[0m in \u001b[0;36m_encode\u001b[0;34m(values, uniques, check_unknown)\u001b[0m\n\u001b[1;32m    223\u001b[0m     \u001b[0;32mif\u001b[0m \u001b[0mvalues\u001b[0m\u001b[0;34m.\u001b[0m\u001b[0mdtype\u001b[0m\u001b[0;34m.\u001b[0m\u001b[0mkind\u001b[0m \u001b[0;32min\u001b[0m \u001b[0;34m\"OUS\"\u001b[0m\u001b[0;34m:\u001b[0m\u001b[0;34m\u001b[0m\u001b[0;34m\u001b[0m\u001b[0m\n\u001b[1;32m    224\u001b[0m         \u001b[0;32mtry\u001b[0m\u001b[0;34m:\u001b[0m\u001b[0;34m\u001b[0m\u001b[0;34m\u001b[0m\u001b[0m\n\u001b[0;32m--> 225\u001b[0;31m             \u001b[0;32mreturn\u001b[0m \u001b[0m_map_to_integer\u001b[0m\u001b[0;34m(\u001b[0m\u001b[0mvalues\u001b[0m\u001b[0;34m,\u001b[0m \u001b[0muniques\u001b[0m\u001b[0;34m)\u001b[0m\u001b[0;34m\u001b[0m\u001b[0;34m\u001b[0m\u001b[0m\n\u001b[0m\u001b[1;32m    226\u001b[0m         \u001b[0;32mexcept\u001b[0m \u001b[0mKeyError\u001b[0m \u001b[0;32mas\u001b[0m \u001b[0me\u001b[0m\u001b[0;34m:\u001b[0m\u001b[0;34m\u001b[0m\u001b[0;34m\u001b[0m\u001b[0m\n\u001b[1;32m    227\u001b[0m             \u001b[0;32mraise\u001b[0m \u001b[0mValueError\u001b[0m\u001b[0;34m(\u001b[0m\u001b[0;34mf\"y contains previously unseen labels: {str(e)}\"\u001b[0m\u001b[0;34m)\u001b[0m\u001b[0;34m\u001b[0m\u001b[0;34m\u001b[0m\u001b[0m\n",
            "\u001b[0;32m/usr/local/lib/python3.10/dist-packages/sklearn/utils/_encode.py\u001b[0m in \u001b[0;36m_map_to_integer\u001b[0;34m(values, uniques)\u001b[0m\n\u001b[1;32m    162\u001b[0m \u001b[0;32mdef\u001b[0m \u001b[0m_map_to_integer\u001b[0m\u001b[0;34m(\u001b[0m\u001b[0mvalues\u001b[0m\u001b[0;34m,\u001b[0m \u001b[0muniques\u001b[0m\u001b[0;34m)\u001b[0m\u001b[0;34m:\u001b[0m\u001b[0;34m\u001b[0m\u001b[0;34m\u001b[0m\u001b[0m\n\u001b[1;32m    163\u001b[0m     \u001b[0;34m\"\"\"Map values based on its position in uniques.\"\"\"\u001b[0m\u001b[0;34m\u001b[0m\u001b[0;34m\u001b[0m\u001b[0m\n\u001b[0;32m--> 164\u001b[0;31m     \u001b[0mtable\u001b[0m \u001b[0;34m=\u001b[0m \u001b[0m_nandict\u001b[0m\u001b[0;34m(\u001b[0m\u001b[0;34m{\u001b[0m\u001b[0mval\u001b[0m\u001b[0;34m:\u001b[0m \u001b[0mi\u001b[0m \u001b[0;32mfor\u001b[0m \u001b[0mi\u001b[0m\u001b[0;34m,\u001b[0m \u001b[0mval\u001b[0m \u001b[0;32min\u001b[0m \u001b[0menumerate\u001b[0m\u001b[0;34m(\u001b[0m\u001b[0muniques\u001b[0m\u001b[0;34m)\u001b[0m\u001b[0;34m}\u001b[0m\u001b[0;34m)\u001b[0m\u001b[0;34m\u001b[0m\u001b[0;34m\u001b[0m\u001b[0m\n\u001b[0m\u001b[1;32m    165\u001b[0m     \u001b[0;32mreturn\u001b[0m \u001b[0mnp\u001b[0m\u001b[0;34m.\u001b[0m\u001b[0marray\u001b[0m\u001b[0;34m(\u001b[0m\u001b[0;34m[\u001b[0m\u001b[0mtable\u001b[0m\u001b[0;34m[\u001b[0m\u001b[0mv\u001b[0m\u001b[0;34m]\u001b[0m \u001b[0;32mfor\u001b[0m \u001b[0mv\u001b[0m \u001b[0;32min\u001b[0m \u001b[0mvalues\u001b[0m\u001b[0;34m]\u001b[0m\u001b[0;34m)\u001b[0m\u001b[0;34m\u001b[0m\u001b[0;34m\u001b[0m\u001b[0m\n\u001b[1;32m    166\u001b[0m \u001b[0;34m\u001b[0m\u001b[0m\n",
            "\u001b[0;32m/usr/local/lib/python3.10/dist-packages/sklearn/utils/_encode.py\u001b[0m in \u001b[0;36m__init__\u001b[0;34m(self, mapping)\u001b[0m\n\u001b[1;32m    150\u001b[0m         \u001b[0msuper\u001b[0m\u001b[0;34m(\u001b[0m\u001b[0;34m)\u001b[0m\u001b[0;34m.\u001b[0m\u001b[0m__init__\u001b[0m\u001b[0;34m(\u001b[0m\u001b[0mmapping\u001b[0m\u001b[0;34m)\u001b[0m\u001b[0;34m\u001b[0m\u001b[0;34m\u001b[0m\u001b[0m\n\u001b[1;32m    151\u001b[0m         \u001b[0;32mfor\u001b[0m \u001b[0mkey\u001b[0m\u001b[0;34m,\u001b[0m \u001b[0mvalue\u001b[0m \u001b[0;32min\u001b[0m \u001b[0mmapping\u001b[0m\u001b[0;34m.\u001b[0m\u001b[0mitems\u001b[0m\u001b[0;34m(\u001b[0m\u001b[0;34m)\u001b[0m\u001b[0;34m:\u001b[0m\u001b[0;34m\u001b[0m\u001b[0;34m\u001b[0m\u001b[0m\n\u001b[0;32m--> 152\u001b[0;31m             \u001b[0;32mif\u001b[0m \u001b[0mis_scalar_nan\u001b[0m\u001b[0;34m(\u001b[0m\u001b[0mkey\u001b[0m\u001b[0;34m)\u001b[0m\u001b[0;34m:\u001b[0m\u001b[0;34m\u001b[0m\u001b[0;34m\u001b[0m\u001b[0m\n\u001b[0m\u001b[1;32m    153\u001b[0m                 \u001b[0mself\u001b[0m\u001b[0;34m.\u001b[0m\u001b[0mnan_value\u001b[0m \u001b[0;34m=\u001b[0m \u001b[0mvalue\u001b[0m\u001b[0;34m\u001b[0m\u001b[0;34m\u001b[0m\u001b[0m\n\u001b[1;32m    154\u001b[0m                 \u001b[0;32mbreak\u001b[0m\u001b[0;34m\u001b[0m\u001b[0;34m\u001b[0m\u001b[0m\n",
            "\u001b[0;32m/usr/local/lib/python3.10/dist-packages/sklearn/utils/_missing.py\u001b[0m in \u001b[0;36mis_scalar_nan\u001b[0;34m(x)\u001b[0m\n\u001b[1;32m     37\u001b[0m     return (\n\u001b[1;32m     38\u001b[0m         \u001b[0;32mnot\u001b[0m \u001b[0misinstance\u001b[0m\u001b[0;34m(\u001b[0m\u001b[0mx\u001b[0m\u001b[0;34m,\u001b[0m \u001b[0mnumbers\u001b[0m\u001b[0;34m.\u001b[0m\u001b[0mIntegral\u001b[0m\u001b[0;34m)\u001b[0m\u001b[0;34m\u001b[0m\u001b[0;34m\u001b[0m\u001b[0m\n\u001b[0;32m---> 39\u001b[0;31m         \u001b[0;32mand\u001b[0m \u001b[0misinstance\u001b[0m\u001b[0;34m(\u001b[0m\u001b[0mx\u001b[0m\u001b[0;34m,\u001b[0m \u001b[0mnumbers\u001b[0m\u001b[0;34m.\u001b[0m\u001b[0mReal\u001b[0m\u001b[0;34m)\u001b[0m\u001b[0;34m\u001b[0m\u001b[0;34m\u001b[0m\u001b[0m\n\u001b[0m\u001b[1;32m     40\u001b[0m         \u001b[0;32mand\u001b[0m \u001b[0mmath\u001b[0m\u001b[0;34m.\u001b[0m\u001b[0misnan\u001b[0m\u001b[0;34m(\u001b[0m\u001b[0mx\u001b[0m\u001b[0;34m)\u001b[0m\u001b[0;34m\u001b[0m\u001b[0;34m\u001b[0m\u001b[0m\n\u001b[1;32m     41\u001b[0m     )\n",
            "\u001b[0;32m/usr/lib/python3.10/abc.py\u001b[0m in \u001b[0;36m__instancecheck__\u001b[0;34m(cls, instance)\u001b[0m\n\u001b[1;32m    117\u001b[0m         \u001b[0;32mdef\u001b[0m \u001b[0m__instancecheck__\u001b[0m\u001b[0;34m(\u001b[0m\u001b[0mcls\u001b[0m\u001b[0;34m,\u001b[0m \u001b[0minstance\u001b[0m\u001b[0;34m)\u001b[0m\u001b[0;34m:\u001b[0m\u001b[0;34m\u001b[0m\u001b[0;34m\u001b[0m\u001b[0m\n\u001b[1;32m    118\u001b[0m             \u001b[0;34m\"\"\"Override for isinstance(instance, cls).\"\"\"\u001b[0m\u001b[0;34m\u001b[0m\u001b[0;34m\u001b[0m\u001b[0m\n\u001b[0;32m--> 119\u001b[0;31m             \u001b[0;32mreturn\u001b[0m \u001b[0m_abc_instancecheck\u001b[0m\u001b[0;34m(\u001b[0m\u001b[0mcls\u001b[0m\u001b[0;34m,\u001b[0m \u001b[0minstance\u001b[0m\u001b[0;34m)\u001b[0m\u001b[0;34m\u001b[0m\u001b[0;34m\u001b[0m\u001b[0m\n\u001b[0m\u001b[1;32m    120\u001b[0m \u001b[0;34m\u001b[0m\u001b[0m\n\u001b[1;32m    121\u001b[0m         \u001b[0;32mdef\u001b[0m \u001b[0m__subclasscheck__\u001b[0m\u001b[0;34m(\u001b[0m\u001b[0mcls\u001b[0m\u001b[0;34m,\u001b[0m \u001b[0msubclass\u001b[0m\u001b[0;34m)\u001b[0m\u001b[0;34m:\u001b[0m\u001b[0;34m\u001b[0m\u001b[0;34m\u001b[0m\u001b[0m\n",
            "\u001b[0;31mKeyboardInterrupt\u001b[0m: "
          ]
        }
      ],
      "source": [
        "import numpy as np\n",
        "from sklearn.preprocessing import LabelEncoder\n",
        "\n",
        "# Fit the encoder on ProductId from X_train\n",
        "encoder = LabelEncoder()\n",
        "encoder.fit(X_train['ProductId'].astype(str))\n",
        "\n",
        "# Preprocess submission data with fallback for unseen labels\n",
        "def preprocess_submission_data(X_submission, encoder):\n",
        "    # Convert 'ProductId' to string to avoid issues with integer labels\n",
        "    X_submission['ProductId'] = X_submission['ProductId'].astype(str)\n",
        "\n",
        "    # Check for unseen labels and replace them with a placeholder\n",
        "    X_submission['ProductId_encoded'] = X_submission['ProductId'].apply(\n",
        "        lambda x: encoder.transform([x])[0] if x in encoder.classes_ else -1\n",
        "    )\n",
        "\n",
        "    return X_submission.drop(columns=['ProductId'])\n",
        "\n",
        "# Process and predict on submission data\n",
        "X_submission_final = preprocess_submission_data(X_submission.copy(), encoder)\n",
        "X_submission['Score'] = best_logistic_model.predict(X_submission_final)\n"
      ]
    },
    {
      "cell_type": "code",
      "source": [],
      "metadata": {
        "id": "wMirsYg8yXOx"
      },
      "execution_count": null,
      "outputs": []
    }
  ],
  "metadata": {
    "colab": {
      "provenance": [],
      "machine_shape": "hm"
    },
    "kernelspec": {
      "display_name": "Python 3",
      "name": "python3"
    },
    "language_info": {
      "codemirror_mode": {
        "name": "ipython",
        "version": 3
      },
      "file_extension": ".py",
      "mimetype": "text/x-python",
      "name": "python",
      "nbconvert_exporter": "python",
      "pygments_lexer": "ipython3",
      "version": "3.12.3"
    }
  },
  "nbformat": 4,
  "nbformat_minor": 0
}